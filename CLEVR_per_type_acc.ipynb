{
 "cells": [
  {
   "cell_type": "code",
   "execution_count": 19,
   "metadata": {
    "collapsed": true
   },
   "outputs": [],
   "source": [
    "from matplotlib.pyplot import imshow\n",
    "import matplotlib.pyplot as plt\n",
    "import numpy as np\n",
    "from PIL import Image\n",
    "from pycocotools.coco import COCO as coco\n",
    "import os.path as osp\n",
    "import os\n",
    "import json\n",
    "import numpy as np\n",
    "\n",
    "log_dir = '/home/nanduan/Downloads'\n",
    "\n",
    "answers_size = {'large', 'small'}\n",
    "answers_material = {'metal', 'rubber'}\n",
    "answers_shape = {'cylinder', 'sphere', 'cube'}\n",
    "answers_color = {'yellow', 'purple', 'blue', 'gray', 'red', 'green', 'brown', 'cyan'}\n"
   ]
  },
  {
   "cell_type": "code",
   "execution_count": 37,
   "metadata": {},
   "outputs": [
    {
     "name": "stdout",
     "output_type": "stream",
     "text": [
      "Path to result:  /home/nanduan/Downloads/old_no_share_embedding_dual_training.json\n"
     ]
    }
   ],
   "source": [
    "name_json = 'old_no_share_embedding_dual_training.json' #'old_Baseline.json' #\n",
    "path_rslt = os.path.join(log_dir, name_json)\n",
    "print 'Path to result: ', path_rslt\n",
    "with open(path_rslt, 'r') as f:\n",
    "    results = json.load(f)"
   ]
  },
  {
   "cell_type": "code",
   "execution_count": 38,
   "metadata": {
    "scrolled": true
   },
   "outputs": [
    {
     "name": "stdout",
     "output_type": "stream",
     "text": [
      "Acc: 0.847796476119 (19295/22759)\n",
      "Acc [size]: 0.877497477296 (4348/4955)\n",
      "Acc [material]: 0.884845827853 (6055/6843)\n",
      "Acc [shape]: 0.84282584885 (4617/5478)\n",
      "Acc [color]: 0.779682655481 (4275/5483)\n"
     ]
    }
   ],
   "source": [
    "# Evaluate the Dual Model result\n",
    "import nltk\n",
    "counters = 0\n",
    "correct_answer = 0\n",
    "counters_size = 0\n",
    "counters_size_correct = 0\n",
    "counters_material = 0\n",
    "counters_material_correct = 0\n",
    "counters_shape = 0\n",
    "counters_shape_correct = 0\n",
    "counters_color = 0\n",
    "counters_color_correct = 0\n",
    "for item_id, item in enumerate(results):\n",
    "    is_true = False\n",
    "    if results[item_id]['readable_result']['gt_answer'] == results[item_id]['readable_result']['augmented_qa'][0][1]:\n",
    "        is_true = True\n",
    "        correct_answer += 1\n",
    "\n",
    "    if item['readable_result']['gt_answer'] in answers_size:\n",
    "        counters_size += 1\n",
    "        counters_size_correct += int(is_true)\n",
    "    elif item['readable_result']['gt_answer'] in answers_material:\n",
    "        counters_material += 1\n",
    "        counters_material_correct += int(is_true)\n",
    "    elif item['readable_result']['gt_answer'] in answers_shape:\n",
    "        counters_shape += 1\n",
    "        counters_shape_correct += int(is_true)\n",
    "    elif item['readable_result']['gt_answer'] in answers_color:\n",
    "        counters_color += 1\n",
    "        counters_color_correct += int(is_true)\n",
    "#     gt_question = ' '.join(results[item_id]['readable_result']['gt_question'])\n",
    "#     print '[GT question]:', gt_question\n",
    "#     print '[GT answer]:', results[item_id]['readable_result']['gt_answer']\n",
    "#     num_augment_pairs = len(results[item_id]['readable_result']['augmented_qa'])\n",
    "#     print '[Generated answers]'\n",
    "#     for p_id, pair in enumerate(results[item_id]['readable_result']['augmented_qa']):\n",
    "#         print '\\t[{}]'.format(p_id), \n",
    "#         print 'A: {0} ({1:.2f})'.format(pair[1], results[item_id]['numeric_result']['augmented_qa'][p_id][2]), \n",
    "#         print 'Q: {0} ({1:.2f})'.format(' '.join(pair[0]), \n",
    "#             float(nltk.translate.bleu_score.sentence_bleu([gt_question], ' '.join(pair[0]))))\n",
    "#     show_image(results[item_id]['image'])\n",
    "    counters += 1\n",
    "    \n",
    "print \"Acc: {} ({}/{})\".format(float(correct_answer) / counters, correct_answer, counters)\n",
    "print \"Acc [size]: {} ({}/{})\".format(float(counters_size_correct) / counters_size, counters_size_correct, counters_size)\n",
    "print \"Acc [material]: {} ({}/{})\".format(float(counters_material_correct) / counters_material, counters_material_correct, counters_material)\n",
    "print \"Acc [shape]: {} ({}/{})\".format(float(counters_shape_correct) / counters_shape, counters_shape_correct, counters_shape)\n",
    "print \"Acc [color]: {} ({}/{})\".format(float(counters_color_correct) / counters_color, counters_color_correct, counters_color)"
   ]
  },
  {
   "cell_type": "code",
   "execution_count": 9,
   "metadata": {},
   "outputs": [
    {
     "data": {
      "text/plain": [
       "{u'image': u'CLEVR_val_000007.png',\n",
       " u'numeric_result': {u'augmented_qa': [[[0,\n",
       "     0,\n",
       "     0,\n",
       "     0,\n",
       "     0,\n",
       "     0,\n",
       "     0,\n",
       "     0,\n",
       "     0,\n",
       "     0,\n",
       "     0,\n",
       "     0,\n",
       "     0,\n",
       "     0,\n",
       "     0,\n",
       "     0,\n",
       "     0,\n",
       "     0,\n",
       "     0,\n",
       "     0,\n",
       "     0,\n",
       "     0,\n",
       "     0,\n",
       "     0,\n",
       "     0,\n",
       "     0,\n",
       "     0,\n",
       "     0,\n",
       "     0,\n",
       "     0],\n",
       "    14,\n",
       "    0.942902684211731]],\n",
       "  u'gt_answer': 14,\n",
       "  u'gt_question': [1,\n",
       "   23,\n",
       "   3,\n",
       "   4,\n",
       "   25,\n",
       "   18,\n",
       "   35,\n",
       "   36,\n",
       "   9,\n",
       "   4,\n",
       "   14,\n",
       "   32,\n",
       "   0,\n",
       "   0,\n",
       "   0,\n",
       "   0,\n",
       "   0,\n",
       "   0,\n",
       "   0,\n",
       "   0,\n",
       "   0,\n",
       "   0,\n",
       "   0,\n",
       "   0,\n",
       "   0,\n",
       "   0,\n",
       "   0,\n",
       "   0,\n",
       "   0,\n",
       "   0]},\n",
       " u'readable_result': {u'augmented_qa': [[[], u'cyan']],\n",
       "  u'gt_answer': u'cyan',\n",
       "  u'gt_question': [u'what',\n",
       "   u'color',\n",
       "   u'is',\n",
       "   u'the',\n",
       "   u'matte',\n",
       "   u'thing',\n",
       "   u'in',\n",
       "   u'front',\n",
       "   u'of',\n",
       "   u'the',\n",
       "   u'large',\n",
       "   u'cube']}}"
      ]
     },
     "execution_count": 9,
     "metadata": {},
     "output_type": "execute_result"
    }
   ],
   "source": [
    "results[10]"
   ]
  }
 ],
 "metadata": {
  "kernelspec": {
   "display_name": "Python 2",
   "language": "python",
   "name": "python2"
  },
  "language_info": {
   "codemirror_mode": {
    "name": "ipython",
    "version": 2
   },
   "file_extension": ".py",
   "mimetype": "text/x-python",
   "name": "python",
   "nbconvert_exporter": "python",
   "pygments_lexer": "ipython2",
   "version": "2.7.13"
  }
 },
 "nbformat": 4,
 "nbformat_minor": 2
}
