{
 "cells": [
  {
   "cell_type": "markdown",
   "metadata": {},
   "source": [
    "# The ipython scripts to add VQG results to training set"
   ]
  },
  {
   "cell_type": "markdown",
   "metadata": {},
   "source": [
    "1. Directly evalute the training set with the model trained on first half of the dataset, and store the results as **train_eval_results**. \n",
    "\n",
    "2. run the scripts with the original **trainset.pickle**.\n",
    "\n",
    "3. replace the **trainset.pickle** with"
   ]
  },
  {
   "cell_type": "code",
   "execution_count": 2,
   "metadata": {
    "collapsed": true
   },
   "outputs": [],
   "source": [
    "import pickle\n",
    "import os.path as osp\n",
    "import os\n",
    "import json\n",
    "\n",
    "data_dir = '/home/nanduan/workspace/vqa.pytorch/data/vqa2/processed/nans,2000_maxlength,17_minwcount,10_nlp,nltk_pad,right_trainsplit,train_filter_questions'\n",
    "\n",
    "output_name = 'augmented_trainset.pickle'"
   ]
  },
  {
   "cell_type": "code",
   "execution_count": 10,
   "metadata": {},
   "outputs": [
    {
     "name": "stdout",
     "output_type": "stream",
     "text": [
      "Done loading dataset\n"
     ]
    }
   ],
   "source": [
    "with open(osp.join(data_dir, 'train_eval_results.json'), 'r') as f:\n",
    "    augment_data = json.load(f)\n",
    "\n",
    "with open(osp.join(data_dir, 'trainset.pickle'), 'rb') as f:\n",
    "    data = pickle.load(f)\n",
    "    \n",
    "assert len(augment_data) == len(data)\n",
    "\n",
    "print('Done loading dataset')"
   ]
  },
  {
   "cell_type": "code",
   "execution_count": 11,
   "metadata": {},
   "outputs": [
    {
     "name": "stdout",
     "output_type": "stream",
     "text": [
      "alternate data from [81775]\n"
     ]
    }
   ],
   "source": [
    "# change the questions of latter half of the dataset\n",
    "start_index = int(len(data) * 0.5)\n",
    "print('alternate data from [{}]'.format(start_index))\n",
    "for i in range(start_index, len(data)):\n",
    "    assert data[i]['image_name'] == augment_data[i]['image']\n",
    "    gt_answer = data[i]['question_wids']\n",
    "    generated_answer = augment_data[i]['numeric_result']['augmented_qa'][0][0]\n",
    "    data[i]['question_wids'] = generated_answer[:len(gt_answer)]\n",
    "    seq_len = next(i for i,item in enumerate(data[i]['question_wids']) if item == 0)\n",
    "    for j in range(seq_len, len(gt_answer)):\n",
    "        data[i]['question_wids'][j] = 0"
   ]
  },
  {
   "cell_type": "code",
   "execution_count": 12,
   "metadata": {},
   "outputs": [
    {
     "name": "stdout",
     "output_type": "stream",
     "text": [
      "Dumping augmented data completed!\n"
     ]
    }
   ],
   "source": [
    "with open(osp.join(data_dir, output_name), 'wb') as f:\n",
    "    pickle.dump(data, f)\n",
    "\n",
    "print('Dumping augmented data completed!')"
   ]
  },
  {
   "cell_type": "code",
   "execution_count": 30,
   "metadata": {},
   "outputs": [
    {
     "name": "stdout",
     "output_type": "stream",
     "text": [
      "{'image': 'COCO_train2014_000000077864.jpg', 'numeric_result': {'gt_question': [1, 62, 13, 138, 29, 13, 35, 63, 29, 351, 1561, 0, 0, 0, 0, 0, 0], 'gt_answer': 8, 'augmented_qa': [[[1, 2, 13, 10, 40, 0, 30, 139, 0, 0, 0, 0, 0, 0, 0, 0, 0, 0, 0, 0], 8, 0.14282602071762085]]}, 'readable_result': {'gt_question': ['what', 'does', 'the', 'woman', 'on', 'the', 'bench', 'have', 'on', 'her', 'ankle'], 'gt_answer': 'nothing', 'augmented_qa': [[['what', 'is', 'the', 'man', 'holding'], 'nothing']]}}\n",
      "{'question_id': 77864002, 'image_name': 'COCO_train2014_000000077864.jpg', 'question': 'What does the woman on the bench have on her ankle?', 'answer': 'nothing', 'answers_occurence': [['nothing', 3], ['socks', 2], ['shoe', 2], ['cart', 1], ['shoe strap', 1], ['sock', 1]], 'question_words': ['what', 'does', 'the', 'woman', 'on', 'the', 'bench', 'have', 'on', 'her', 'ankle', '?'], 'concepts': ['woman', 'bench', 'have'], 'concepts_cid': [101, 20, 41], 'question_words_UNK': ['what', 'does', 'the', 'woman', 'on', 'the', 'bench', 'have', 'on', 'her', 'ankle', '?'], 'question_length': 12, 'question_wids': [1, 2, 13, 10, 40, 0, 0, 0, 0, 0, 0, 0, 0, 0, 0, 0, 0], 'seq_length': 12, 'answer_aid': 8, 'answers': ['nothing', 'socks', 'shoe', 'cart'], 'answers_aid': [8, 913, 662, 604], 'answers_count': [3, 2, 2, 1]}\n"
     ]
    }
   ],
   "source": [
    "print(augment_data[100000])\n",
    "print(data[100000])"
   ]
  }
 ],
 "metadata": {
  "kernelspec": {
   "display_name": "Python 2",
   "language": "python",
   "name": "python2"
  },
  "language_info": {
   "codemirror_mode": {
    "name": "ipython",
    "version": 2
   },
   "file_extension": ".py",
   "mimetype": "text/x-python",
   "name": "python",
   "nbconvert_exporter": "python",
   "pygments_lexer": "ipython2",
   "version": "2.7.13"
  }
 },
 "nbformat": 4,
 "nbformat_minor": 2
}
