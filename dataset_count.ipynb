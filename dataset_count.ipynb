{
 "cells": [
  {
   "cell_type": "code",
   "execution_count": 1,
   "metadata": {
    "collapsed": true
   },
   "outputs": [],
   "source": [
    "import pickle\n",
    "import os.path as osp"
   ]
  },
  {
   "cell_type": "code",
   "execution_count": 24,
   "metadata": {
    "collapsed": true
   },
   "outputs": [],
   "source": [
    "data_dir = '/home/nanduan/workspace/vqa.pytorch/data/clevr/processed/nans,2000_maxlength,30_minwcount,0_nlp,nltk_pad,right_trainsplit,train_filter_questions'\n",
    "#data_dir = '/home/nanduan/workspace/vqa.pytorch/data/vqa2/processed/nans,2000_maxlength,17_minwcount,10_nlp,nltk_pad,right_trainsplit,train_filter_questions'\n",
    "with open(osp.join(data_dir, 'aid_to_ans.pickle'), 'rb') as f:\n",
    "    data = pickle.load(f)"
   ]
  },
  {
   "cell_type": "code",
   "execution_count": 20,
   "metadata": {},
   "outputs": [
    {
     "name": "stdout",
     "output_type": "stream",
     "text": [
      "Totally 107132 questions\n",
      "Totally 57656 images\n"
     ]
    }
   ],
   "source": [
    "print('Totally {} questions'.format(len(data)))\n",
    "imagename_set = set()\n",
    "for item in data:\n",
    "    imagename_set.update([item['image_name']])\n",
    "\n",
    "print('Totally {} images'.format(len(imagename_set)))"
   ]
  },
  {
   "cell_type": "code",
   "execution_count": 26,
   "metadata": {},
   "outputs": [
    {
     "data": {
      "text/plain": [
       "['metal',\n",
       " 'rubber',\n",
       " 'small',\n",
       " 'large',\n",
       " 'cylinder',\n",
       " 'sphere',\n",
       " 'cube',\n",
       " 'yellow',\n",
       " 'purple',\n",
       " 'blue',\n",
       " 'gray',\n",
       " 'red',\n",
       " 'green',\n",
       " 'brown',\n",
       " 'cyan']"
      ]
     },
     "execution_count": 26,
     "metadata": {},
     "output_type": "execute_result"
    }
   ],
   "source": [
    "data"
   ]
  }
 ],
 "metadata": {
  "kernelspec": {
   "display_name": "Python 2",
   "language": "python",
   "name": "python2"
  },
  "language_info": {
   "codemirror_mode": {
    "name": "ipython",
    "version": 3
   },
   "file_extension": ".py",
   "mimetype": "text/x-python",
   "name": "python",
   "nbconvert_exporter": "python",
   "pygments_lexer": "ipython3",
   "version": "3.6.1"
  }
 },
 "nbformat": 4,
 "nbformat_minor": 2
}
